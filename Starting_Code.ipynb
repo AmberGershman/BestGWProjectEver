{
 "cells": [
  {
   "cell_type": "code",
   "execution_count": null,
   "metadata": {},
   "outputs": [],
   "source": [
    "import os\n",
    "import json\n",
    "from pprint import pprint\n",
    "import requests\n",
    "import pandas as pd\n",
    "import time\n",
    "from config import api_key, g_key\n",
    "import gmaps\n"
   ]
  },
  {
   "cell_type": "code",
   "execution_count": null,
   "metadata": {},
   "outputs": [],
   "source": [
    "filepath = os.path.join(\"Top_100_Contractors_Report_Fiscal_Year_2019.xls\")\n"
   ]
  },
  {
   "cell_type": "code",
   "execution_count": null,
   "metadata": {},
   "outputs": [],
   "source": [
    "procurement_data = pd.read_excel(filepath, sheet_name = None)"
   ]
  },
  {
   "cell_type": "code",
   "execution_count": null,
   "metadata": {},
   "outputs": [],
   "source": [
    "print(procurement_data)"
   ]
  },
  {
   "cell_type": "code",
   "execution_count": null,
   "metadata": {
    "scrolled": true
   },
   "outputs": [],
   "source": [
    "federal_vendor_names = procurement_data[\"Federal\"][[\"Global Vendor Name\",\"Number of Actions\", \"Dollars Obligated\"]]\n",
    "federal_vendor_names = federal_vendor_names.rename({\"Global Vendor Name\": \"Business Name\"}, axis = 1)\n",
    "federal_vendor_names"
   ]
  },
  {
   "cell_type": "code",
   "execution_count": null,
   "metadata": {
    "scrolled": false
   },
   "outputs": [],
   "source": [
    "url = \"https://api.data.gov/sam/v3/registrations?qterms=\"\n",
    "\n",
    "businesses = federal_vendor_names[\"Business Name\"]\n",
    "bus_name = []\n",
    "address_line_one = []\n",
    "address_city = []\n",
    "state = []\n",
    "zip_code = []\n",
    "country = []                                    \n",
    "duns = []\n",
    "plus_four = []\n",
    "not_found = []\n",
    "i = 0\n",
    "\n",
    "for business in businesses:\n",
    "    query_url = f\"{url}{business[0:6]}&length=500&api_key={api_key}\"\n",
    "    response = requests.get(query_url).json()\n",
    "    i = i+1\n",
    "    print(f\"I'm looking for {business}, number {i} of 100\")\n",
    "    time.sleep(1)\n",
    "    for result in response[\"results\"]:\n",
    "        if business == result[\"legalBusinessName\"].upper():\n",
    "            bus_name.append(result[\"legalBusinessName\"].upper())\n",
    "            address_line_one.append(result[\"samAddress\"][\"line1\"])\n",
    "            address_city.append(result[\"samAddress\"][\"city\"])\n",
    "            state.append(result[\"samAddress\"][\"stateOrProvince\"])\n",
    "            zip_code.append(result[\"samAddress\"][\"zip\"])\n",
    "            country.append(result[\"samAddress\"][\"countryCode\"])\n",
    "            duns.append(result[\"duns\"])\n",
    "            plus_four.append(result[\"duns_plus4\"])\n",
    "            print(f\"I've added information for request: {business}\")\n",
    "            break\n",
    "\n"
   ]
  },
  {
   "cell_type": "code",
   "execution_count": null,
   "metadata": {},
   "outputs": [],
   "source": [
    "print(len(bus_name))\n",
    "print(len(address_line_one))\n",
    "print(len(address_city))\n",
    "print(len(zip_code))\n",
    "print(len(country))"
   ]
  },
  {
   "cell_type": "code",
   "execution_count": null,
   "metadata": {},
   "outputs": [],
   "source": [
    "federal_spending = pd.DataFrame({\"Business Name\":bus_name, \"Address\": address_line_one, \"City\": address_city, \"State\":state, \"Zip\":zip_code, \"Country\": country})\n",
    "federal_spending = pd.merge(federal_spending, federal_vendor_names, on = \"Business Name\", how = \"left\")\n",
    "federal_spending[\"Lat\"] = \"\"\n",
    "federal_spending[\"Lon\"] = \"\"\n",
    "federal_spending"
   ]
  },
  {
   "cell_type": "code",
   "execution_count": null,
   "metadata": {},
   "outputs": [],
   "source": [
    "cities = federal_spending[\"State\"]+\", \"+federal_spending[\"City\"]\n",
    "print(cities)"
   ]
  },
  {
   "cell_type": "code",
   "execution_count": null,
   "metadata": {},
   "outputs": [],
   "source": [
    "cities = federal_spending[\"City\"]+\", \"+federal_spending[\"State\"]\n",
    "\n",
    "base_url = \"https://maps.googleapis.com/maps/api/geocode/json\"\n",
    "lat = []\n",
    "lng = []\n",
    "\n",
    "for city in cities:\n",
    "    params = {\"address\": {city}, \"key\": g_key}\n",
    "    response = requests.get(base_url, params=params).json()\n",
    "    lat.append(response[\"results\"][0][\"geometry\"][\"location\"][\"lat\"])\n",
    "    lng.append(response[\"results\"][0][\"geometry\"][\"location\"][\"lng\"])"
   ]
  },
  {
   "cell_type": "code",
   "execution_count": null,
   "metadata": {},
   "outputs": [],
   "source": [
    "print(lat)"
   ]
  },
  {
   "cell_type": "code",
   "execution_count": null,
   "metadata": {},
   "outputs": [],
   "source": [
    "federal_spending[\"Lat\"] = lat\n",
    "federal_spending[\"Lon\"] = lng\n",
    "federal_spending[\"Duns\"] = duns\n",
    "federal_spending"
   ]
  },
  {
   "cell_type": "code",
   "execution_count": null,
   "metadata": {},
   "outputs": [],
   "source": [
    "gmaps.configure(api_key=g_key)\n",
    "locations = federal_spending[[\"Lat\", \"Lon\"]]\n",
    "weights = federal_spending[\"Dollars Obligated\"]"
   ]
  },
  {
   "cell_type": "code",
   "execution_count": null,
   "metadata": {},
   "outputs": [],
   "source": [
    "fig = gmaps.figure()\n",
    "\n",
    "dollars_spent = gmaps.heatmap_layer(locations, weights=weights, \n",
    "                                 dissipating=False, max_intensity=100,\n",
    "                                 point_radius = 1)\n",
    "\n",
    "fig.add_layer(dollars_spent)\n",
    "\n",
    "fig"
   ]
  },
  {
   "cell_type": "code",
   "execution_count": null,
   "metadata": {},
   "outputs": [],
   "source": [
    "info_box_template = \"\"\"\n",
    "<dl>\n",
    "<dt>Company Name</dt><dd>{Business Name}</dd>\n",
    "<dt>City</dt><dd>{City}</dd>\n",
    "<dt>State</dt><dd>{State}</dd>\n",
    "<dt>Dollars Allocated</dt><dd>{Dollars Obligated}</dd>\n",
    "</dl>\n",
    "\"\"\"\n",
    "company_info = [info_box_template.format(**row) for index, row in federal_spending.iterrows()]\n",
    "locations = federal_spending[[\"Lat\", \"Lon\"]]\n",
    "\n",
    "info_layer = gmaps.symbol_layer(\n",
    "    locations, fill_color='rgba(0, 150, 0, 0.4)',\n",
    "    stroke_color='rgba(0, 0, 150, 0.4)', scale=2,\n",
    "    info_box_content= company_info\n",
    ")\n",
    "\n",
    "fig.add_layer(info_layer)\n",
    "fig"
   ]
  },
  {
   "cell_type": "code",
   "execution_count": null,
   "metadata": {},
   "outputs": [],
   "source": [
    "print(duns)"
   ]
  },
  {
   "cell_type": "code",
   "execution_count": null,
   "metadata": {},
   "outputs": [],
   "source": [
    "print(plus_four)"
   ]
  },
  {
   "cell_type": "code",
   "execution_count": null,
   "metadata": {},
   "outputs": [],
   "source": [
    "url_duns = \"https://api.data.gov/sam/v8/registrations/\"\n",
    "plus_four = \"0000\"\n",
    "\n",
    "\n",
    "small_bus = []\n",
    "businessStartDate = []\n",
    "naicsName = []\n",
    "\n",
    "for dun in duns:\n",
    "    query_url_two = f\"{url_duns}{dun}0000?api_key={api_key}\"\n",
    "    response = requests.get(query_url_two).json()\n",
    "    print(f\"I'm getting information for {dun}, {query_url_two}\")\n",
    "    time.sleep(1)\n",
    "    businessStartDate.append(response[\"sam_data\"][\"registration\"][\"businessStartDate\"])\n",
    "    try:\n",
    "        attempt_one = str(response[\"sam_data\"][\"registration\"][\"certifications\"]).split(\"'naics': [\")[1].split(\", {\")[0].replace(\"'\",'\"').replace(\"False\", '\"False\"').replace(\"True\", '\"True\"')\n",
    "        attempt_two = json.loads(attempt_one)\n",
    "        small_bus.append(attempt_two[\"naicsName\"])\n",
    "        naicsName.append(attempt_two[\"isSmallBusiness\"])\n",
    "    except IndexError:\n",
    "        print(\"None for you!\")\n",
    "    \n",
    "    \n"
   ]
  },
  {
   "cell_type": "code",
   "execution_count": null,
   "metadata": {},
   "outputs": [],
   "source": [
    "attempt_one = str(response[\"sam_data\"][\"registration\"][\"certifications\"]).split(\"'naics': [\")[1].split(\", {\")[0].replace(\"'\",'\"').replace(\"False\", '\"False\"')\n",
    "json.loads(attempt_one)"
   ]
  },
  {
   "cell_type": "code",
   "execution_count": null,
   "metadata": {},
   "outputs": [],
   "source": [
    "print(businessStartDate)"
   ]
  },
  {
   "cell_type": "code",
   "execution_count": null,
   "metadata": {},
   "outputs": [],
   "source": [
    "response[\"sam_data\"][\"registration\"][\"certifications\"][\"farResponses\"]"
   ]
  },
  {
   "cell_type": "code",
   "execution_count": null,
   "metadata": {},
   "outputs": [],
   "source": [
    "education_vendor_names = procurement_data[\"Education (9100)\"][[\"Global Vendor Name\", \"Number of Actions\", \"Dollars Obligated\"]]\n",
    "education_vendor_names"
   ]
  },
  {
   "cell_type": "code",
   "execution_count": null,
   "metadata": {},
   "outputs": [],
   "source": [
    "edu_url = \"https://api.data.gov/sam/v3/registrations?qterms=\"\n",
    "\n",
    "ed_business = procurement_data[\"Education (9100)\"][\"Global Vendor Name\"]\n",
    "ed_name = []\n",
    "ed_address = []\n",
    "ed_city = []\n",
    "ed_state = []\n",
    "ed_zip = []\n",
    "ed_country = []                                    \n",
    "ed_duns = []\n",
    "\n",
    "i = 0\n",
    "\n",
    "for business in ed_business:\n",
    "    ed_query_url = f\"{edu_url}{business[0:6]}&length=500&api_key={api_key}\"\n",
    "    response = requests.get(ed_query_url).json()\n",
    "    i = i+1\n",
    "    print(f\"I'm looking for {business}, number {i} of 100\")\n",
    "    time.sleep(1)\n",
    "    for result in response[\"results\"]:\n",
    "        if business == result[\"legalBusinessName\"].upper():\n",
    "            ed_name.append(result[\"legalBusinessName\"].upper())\n",
    "            ed_address.append(result[\"samAddress\"][\"line1\"])\n",
    "            ed_city.append(result[\"samAddress\"][\"city\"])\n",
    "            ed_state.append(result[\"samAddress\"][\"stateOrProvince\"])\n",
    "            ed_zip.append(result[\"samAddress\"][\"zip\"])\n",
    "            ed_country.append(result[\"samAddress\"][\"countryCode\"])\n",
    "            ed_duns.append(result[\"duns\"])\n",
    "            print(f\"I've added information for request: {business}\")\n",
    "            break\n"
   ]
  },
  {
   "cell_type": "code",
   "execution_count": null,
   "metadata": {},
   "outputs": [],
   "source": [
    "print(len(ed_name))"
   ]
  },
  {
   "cell_type": "code",
   "execution_count": null,
   "metadata": {},
   "outputs": [],
   "source": []
  }
 ],
 "metadata": {
  "kernelspec": {
   "display_name": "Python 3",
   "language": "python",
   "name": "python3"
  },
  "language_info": {
   "codemirror_mode": {
    "name": "ipython",
    "version": 3
   },
   "file_extension": ".py",
   "mimetype": "text/x-python",
   "name": "python",
   "nbconvert_exporter": "python",
   "pygments_lexer": "ipython3",
   "version": "3.7.6"
  }
 },
 "nbformat": 4,
 "nbformat_minor": 4
}
