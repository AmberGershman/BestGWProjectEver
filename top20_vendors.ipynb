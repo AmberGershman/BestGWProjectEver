{
 "cells": [
  {
   "cell_type": "code",
   "execution_count": 1,
   "metadata": {},
   "outputs": [
    {
     "ename": "ModuleNotFoundError",
     "evalue": "No module named 'keys'",
     "output_type": "error",
     "traceback": [
      "\u001b[0;31m---------------------------------------------------------------------------\u001b[0m",
      "\u001b[0;31mModuleNotFoundError\u001b[0m                       Traceback (most recent call last)",
      "\u001b[0;32m<ipython-input-1-deabe50530f8>\u001b[0m in \u001b[0;36m<module>\u001b[0;34m\u001b[0m\n\u001b[1;32m      5\u001b[0m \u001b[0;32mimport\u001b[0m \u001b[0mtime\u001b[0m\u001b[0;34m\u001b[0m\u001b[0;34m\u001b[0m\u001b[0m\n\u001b[1;32m      6\u001b[0m \u001b[0;32mimport\u001b[0m \u001b[0mgmaps\u001b[0m\u001b[0;34m\u001b[0m\u001b[0;34m\u001b[0m\u001b[0m\n\u001b[0;32m----> 7\u001b[0;31m \u001b[0;32mfrom\u001b[0m \u001b[0mkeys\u001b[0m \u001b[0;32mimport\u001b[0m \u001b[0mapi_key\u001b[0m\u001b[0;34m\u001b[0m\u001b[0;34m\u001b[0m\u001b[0m\n\u001b[0m\u001b[1;32m      8\u001b[0m \u001b[0;32mfrom\u001b[0m \u001b[0mkeys\u001b[0m \u001b[0;32mimport\u001b[0m \u001b[0mg_key\u001b[0m\u001b[0;34m\u001b[0m\u001b[0;34m\u001b[0m\u001b[0m\n\u001b[1;32m      9\u001b[0m \u001b[0;32mfrom\u001b[0m \u001b[0mkeys\u001b[0m \u001b[0;32mimport\u001b[0m \u001b[0mbeta_key\u001b[0m\u001b[0;34m\u001b[0m\u001b[0;34m\u001b[0m\u001b[0m\n",
      "\u001b[0;31mModuleNotFoundError\u001b[0m: No module named 'keys'"
     ]
    }
   ],
   "source": [
    "import os\n",
    "import json\n",
    "import requests\n",
    "import pandas as pd\n",
    "import time\n",
    "import gmaps\n",
    "from keys import api_key\n",
    "from keys import g_key\n",
    "from keys import beta_key\n",
    "from matplotlib.ticker import StrMethodFormatter\n",
    "\n",
    "\n",
    "import matplotlib.pyplot as plt"
   ]
  },
  {
   "cell_type": "code",
   "execution_count": null,
   "metadata": {},
   "outputs": [],
   "source": [
    "file_path = \"Top_100_Contractors_Report_Fiscal_Year_2019.xls\"\n",
    "procurement_data = pd.read_excel(file_path, sheet_name = None)\n",
    "procurement_data"
   ]
  },
  {
   "cell_type": "code",
   "execution_count": null,
   "metadata": {},
   "outputs": [],
   "source": [
    "federal_vendor_names = procurement_data[\"Federal\"][[\"Global Vendor Name\", \"Dollars Obligated\"]]\n",
    "federal_vendor_names = federal_vendor_names.rename({\"Global Vendor Name\": \"Business Name\"}, axis=1)\n",
    "federal_vendor_names"
   ]
  },
  {
   "cell_type": "code",
   "execution_count": null,
   "metadata": {},
   "outputs": [],
   "source": [
    "federal_overview = pd.read_csv(\"federal_overview.csv\")\n",
    "federal_overview.head()"
   ]
  },
  {
   "cell_type": "code",
   "execution_count": null,
   "metadata": {},
   "outputs": [],
   "source": [
    "top20_vendors = federal_overview.nlargest(20, 'Dollars Obligated')\n",
    "top20_vendors"
   ]
  },
  {
   "cell_type": "code",
   "execution_count": null,
   "metadata": {},
   "outputs": [],
   "source": [
    "top20_vendors[\"Dollars Obligated\"].max()"
   ]
  },
  {
   "cell_type": "code",
   "execution_count": null,
   "metadata": {},
   "outputs": [],
   "source": [
    "ax = top20_vendors.plot.barh(\"Business Name\", \"Dollars Obligated\",\n",
    "                             color = 'g', alpha= 1, align= 'center', figsize=(8,6))\n",
    "plt.gca().invert_yaxis()\n",
    "plt.title(\"Dollars obligated vs. Business\")\n",
    "plt.xlabel(\"Dollars Obligated (Billions)\")\n",
    "plt.ylabel(\"Top 20 Business\")\n",
    "plt.grid(axis = 'x')\n",
    "plt.savefig('Dollars obligated by Business.png')\n",
    "plt.show()"
   ]
  },
  {
   "cell_type": "code",
   "execution_count": null,
   "metadata": {},
   "outputs": [],
   "source": [
    "top20_vendors[\"Per Capita Spending\"].max()"
   ]
  },
  {
   "cell_type": "code",
   "execution_count": null,
   "metadata": {},
   "outputs": [],
   "source": [
    "ax = top20_vendors.plot.barh(\"Business Name\", \"Per Capita Spending\",\n",
    "                             color = 'g', alpha= 1, align= 'center', figsize= (8,6))\n",
    "plt.gca().invert_yaxis()\n",
    "plt.title(\"Per Capita Spending vs. Business\")\n",
    "plt.xlabel(\"Dollars Obligated (Millions)\")\n",
    "plt.ylabel(\"Top 20 Business\")\n",
    "plt.grid(axis = 'x')\n",
    "plt.savefig('Per Capita Spending by Business.png')\n",
    "plt.show()"
   ]
  },
  {
   "cell_type": "code",
   "execution_count": null,
   "metadata": {},
   "outputs": [],
   "source": []
  }
 ],
 "metadata": {
  "kernelspec": {
   "display_name": "Python 3",
   "language": "python",
   "name": "python3"
  },
  "language_info": {
   "codemirror_mode": {
    "name": "ipython",
    "version": 3
   },
   "file_extension": ".py",
   "mimetype": "text/x-python",
   "name": "python",
   "nbconvert_exporter": "python",
   "pygments_lexer": "ipython3",
   "version": "3.7.6"
  }
 },
 "nbformat": 4,
 "nbformat_minor": 4
}
